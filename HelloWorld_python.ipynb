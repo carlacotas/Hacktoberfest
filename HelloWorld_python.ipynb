{
  "nbformat": 4,
  "nbformat_minor": 0,
  "metadata": {
    "colab": {
      "name": "Untitled1.ipynb",
      "provenance": [],
      "authorship_tag": "ABX9TyMrA1Gy30emJZIoLPchs4F0"
    },
    "kernelspec": {
      "name": "python3",
      "display_name": "Python 3"
    },
    "language_info": {
      "name": "python"
    }
  },
  "cells": [
    {
      "cell_type": "code",
      "metadata": {
        "colab": {
          "base_uri": "https://localhost:8080/"
        },
        "id": "GSCzzQvknfSd",
        "outputId": "3dd9c783-7129-4a0d-a854-fed6786c63cf"
      },
      "source": [
        "##Hactoberfest shivaylamba / Hacktoberfest\n",
        "\n",
        "print(\"Hello World! from a phyton code:)\")"
      ],
      "execution_count": 1,
      "outputs": [
        {
          "output_type": "stream",
          "name": "stdout",
          "text": [
            "Hello World! from a phyton code:)\n"
          ]
        }
      ]
    }
  ]
}